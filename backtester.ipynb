{
 "cells": [
  {
   "cell_type": "code",
   "execution_count": 88,
   "metadata": {},
   "outputs": [],
   "source": [
    "from tqdm import tqdm\n",
    "from datetime import datetime\n",
    "import pandas as pd\n",
    "class Strategy():\n",
    "    def __init__(self):\n",
    "        self.idx = None\n",
    "        self.ohlc = None\n",
    "        self.indicators = {}\n",
    "        self._broker = Broker()\n",
    "        self._positions = {}\n",
    "\n",
    "    def buy(self,ticker,size=1):\n",
    "        self._broker.orders.append(\n",
    "            Order(\n",
    "                ticker = ticker,\n",
    "                side = 'buy',\n",
    "                size = size,\n",
    "                idx = self.idx\n",
    "            ))\n",
    "                \n",
    "    def sell(self,ticker,size=1):\n",
    "        self._broker.orders.append(\n",
    "            Order(\n",
    "                ticker = ticker,\n",
    "                side = 'sell',\n",
    "                size = -size,\n",
    "                idx = self.idx\n",
    "            ))\n",
    "\n",
    "\n",
    "    def position_size(self,ticker):\n",
    "        return self._positions[ticker]\n",
    "    \n",
    "    def indicator(self, ticker, name):\n",
    "        return self.indicators[ticker][name].loc[:self.idx]\n",
    "    \n",
    "    @property\n",
    "    def tickers(self):\n",
    "        return list(self.ohlc.keys())\n",
    "    def next(self):\n",
    "        pass\n",
    "    \n",
    "class Order():\n",
    "    def __init__(self, ticker, size, side, idx):\n",
    "        self.ticker = ticker\n",
    "        self.side = side\n",
    "        self.size = size\n",
    "        self.type = 'market'\n",
    "        self.idx = idx\n",
    "        \n",
    "class Trade():\n",
    "    def __init__(self, ticker,side,size,price,type,idx):\n",
    "        self.ticker = ticker\n",
    "        self.side = side\n",
    "        self.price = price\n",
    "        self.size = size\n",
    "        self.type = type\n",
    "        self.idx = idx\n",
    "\n",
    "    \n",
    "    def __repr__(self):\n",
    "        return f'<Trade: {self.idx} {self.ticker} {self.size}@{self.price}>'\n",
    "        \n",
    "    def __str__(self):\n",
    "        return f'<Trade: {self.idx} {self.ticker} {self.size}@{self.price}>'\n",
    "    \n",
    "class Broker():\n",
    "    def __init__(self):\n",
    "        self.orders = []\n",
    "        self.trades = []\n",
    "\n",
    "class Engine():\n",
    "    def __init__(self, strategy:Strategy, cash:float=10_000):\n",
    "        self.strategy = strategy()\n",
    "        self.ohlc = {}\n",
    "        self._iterators = {}\n",
    "        self.current_prices = {}\n",
    "        self.current_indicators = {}\n",
    "        self.indexes = None\n",
    "        self.cash = cash\n",
    "        self.cash_series = {}\n",
    "        self.output = {}\n",
    "        self.indicator_functions = {}\n",
    "    \n",
    "    def set_cash(self, amount:float):\n",
    "        self.cash = amount\n",
    "\n",
    "    def add_ohlc(self, name, data):\n",
    "        self.ohlc[name] = data\n",
    "        self._iterators[name] = data.iterrows()\n",
    "        if self.indexes is None:\n",
    "            self.indexes = data.index.to_numpy()\n",
    "            \n",
    "    def add_indicator(self, name, function, *args):\n",
    "        self.indicator_functions[name] = [function,*args]\n",
    "        \n",
    "    def run(self):\n",
    "        self.strategy.ohlc = self.ohlc\n",
    "        self._prepare_indicators()\n",
    "        for t in self.strategy.tickers:\n",
    "            self.strategy._positions[t] = 0\n",
    "        for i in tqdm(self.indexes):\n",
    "            for t in self.strategy.tickers:\n",
    "                self.current_prices[t] = next(self._iterators[t])[1]\n",
    "                \n",
    "            self.strategy.idx = i\n",
    "            self._fill_orders()\n",
    "            self.cash_series[i] = self.cash \n",
    "            self.strategy.next()\n",
    "        \n",
    "        self._prepare_output()\n",
    "        return self.output\n",
    "    \n",
    "    def _prepare_indicators(self):\n",
    "        for ticker in self.strategy.tickers:\n",
    "            self.strategy.indicators[ticker] = {}\n",
    "            for name, logic in self.indicator_functions.items():\n",
    "                self.strategy.indicators[ticker][name] = logic[0](self.strategy.ohlc[ticker], logic[1])\n",
    "                \n",
    "    def _prepare_output(self):\n",
    "        self.cash_series = pd.Series(self.cash_series)\n",
    "        df_trades = pd.DataFrame(index=self.cash_series .index)\n",
    "        for t in self.strategy._broker.trades:\n",
    "            df_trades.loc[t.idx, t.ticker] = t.size\n",
    "        df_positions = df_trades.fillna(0).cumsum()\n",
    "\n",
    "        prices = pd.DataFrame(index=self.cash_series.index)\n",
    "        for ticker in self.strategy.tickers:\n",
    "            prices[ticker] = self.strategy.ohlc[ticker]['Close']\n",
    "        df_portfolio = df_positions * prices\n",
    "        df_portfolio['cash'] = self.cash_series\n",
    "        df_portfolio['total'] = df_portfolio.sum(axis=1)\n",
    "        self.output['portfolio'] = df_portfolio\n",
    "        self.output['positions'] = df_positions\n",
    "        self.output['trades'] = df_trades\n",
    "        \n",
    "        p = df_portfolio.total\n",
    "    \n",
    "    def _fill_orders(self):\n",
    "        for order in self.strategy._broker.orders:\n",
    "            can_fill = False\n",
    "            if order.side == 'buy' and self.cash >= self.current_prices[order.ticker]['Open'] * order.size:\n",
    "                    can_fill = True \n",
    "            elif order.side == 'sell' and self.strategy._positions[order.ticker] >= order.size:\n",
    "                    can_fill = True\n",
    "            if can_fill:\n",
    "                t = Trade(\n",
    "                    ticker = order.ticker,\n",
    "                    side = order.side,\n",
    "                    price= self.current_prices[order.ticker]['Open'],  # self.strategy.ohlc[order.ticker].loc[order.idx, 'Open'],\n",
    "                    size = order.size,\n",
    "                    type = order.type,\n",
    "                    idx = self.strategy.idx)\n",
    "                self.strategy._positions[order.ticker] += order.size\n",
    "                self.strategy._broker.trades.append(t)\n",
    "                self.cash -= t.price * t.size\n",
    "        self.strategy._broker.orders = []\n",
    "        \n",
    "\n",
    "                "
   ]
  },
  {
   "cell_type": "code",
   "execution_count": 89,
   "metadata": {},
   "outputs": [],
   "source": [
    "import pandas_ta as ta\n",
    "def sma(ohlc,*params):\n",
    "    lookback = params[0]\n",
    "    return ta.sma(ohlc.Close, length=lookback)\n",
    "\n",
    "\n",
    "class MyStrategy(Strategy):\n",
    "    count = 0\n",
    "    def next(self):\n",
    "        for ticker in self.tickers:\n",
    "            if self.count == 0:\n",
    "                if self.position_size(ticker) == 0:\n",
    "                    self.buy(ticker, 1)\n",
    "                else:\n",
    "                    self.sell(ticker, 1)\n",
    "            if self.count == 5:\n",
    "                self.count = 0\n",
    "        self.count += 1\n",
    "        \n",
    "\n",
    "class SMAStrategy(Strategy):\n",
    "    count = 0\n",
    "    def next(self):\n",
    "        for ticker in self.tickers:\n",
    "            if self.position_size(ticker) == 0:\n",
    "                if self.indicator(ticker, 'sma12')[-1] > self.indicator(ticker,'sma24')[-1]:                \n",
    "                    self.buy(ticker, 10)\n",
    "            else:\n",
    "                if self.indicator(ticker, 'sma12')[-1] < self.indicator(ticker, 'sma24')[-1]:\n",
    "                    self.sell(ticker, 10)\n"
   ]
  },
  {
   "cell_type": "code",
   "execution_count": 92,
   "metadata": {},
   "outputs": [],
   "source": [
    "import yfinance as yf\n",
    "import pandas_ta as ta\n",
    "aapl = yf.Ticker('AAPL').history(period='10y')\n",
    "amzn = yf.Ticker('AMZN').history(period='10y')\n",
    "\n",
    "e = Engine(SMAStrategy)\n",
    "e.add_ohlc('AAPL', aapl)\n",
    "e.add_ohlc('AMZN', amzn)\n",
    "e.add_indicator('sma12', sma,12)\n",
    "e.add_indicator('sma24', sma,24)\n",
    "\n"
   ]
  },
  {
   "cell_type": "code",
   "execution_count": 99,
   "metadata": {},
   "outputs": [
    {
     "data": {
      "text/plain": [
       "dict_keys(['portfolio', 'positions', 'trades'])"
      ]
     },
     "execution_count": 99,
     "metadata": {},
     "output_type": "execute_result"
    }
   ],
   "source": [
    "# output = e.run()\n",
    "p = output['portfolio'].total\n",
    "output.keys()"
   ]
  },
  {
   "cell_type": "code",
   "execution_count": 101,
   "metadata": {},
   "outputs": [
    {
     "data": {
      "text/plain": [
       "<matplotlib.axes._subplots.AxesSubplot at 0x205d5df4760>"
      ]
     },
     "execution_count": 101,
     "metadata": {},
     "output_type": "execute_result"
    },
    {
     "data": {
      "image/png": "[encoded data removed]",
      "text/plain": [
       "<Figure size 432x288 with 1 Axes>"
      ]
     },
     "metadata": {
      "needs_background": "light"
     },
     "output_type": "display_data"
    }
   ],
   "source": [
    "output['portfolio'].plot()"
   ]
  },
  {
   "cell_type": "code",
   "execution_count": 102,
   "metadata": {},
   "outputs": [
    {
     "data": {
      "text/html": [
       "<div>\n",
       "<style scoped>\n",
       "    .dataframe tbody tr th:only-of-type {\n",
       "        vertical-align: middle;\n",
       "    }\n",
       "\n",
       "    .dataframe tbody tr th {\n",
       "        vertical-align: top;\n",
       "    }\n",
       "\n",
       "    .dataframe thead th {\n",
       "        text-align: right;\n",
       "    }\n",
       "</style>\n",
       "<table border=\"1\" class=\"dataframe\">\n",
       "  <thead>\n",
       "    <tr style=\"text-align: right;\">\n",
       "      <th></th>\n",
       "      <th>value</th>\n",
       "    </tr>\n",
       "  </thead>\n",
       "  <tbody>\n",
       "    <tr>\n",
       "      <th>return_ann</th>\n",
       "      <td>0.174679</td>\n",
       "    </tr>\n",
       "    <tr>\n",
       "      <th>volatility_ann</th>\n",
       "      <td>0.334178</td>\n",
       "    </tr>\n",
       "    <tr>\n",
       "      <th>sharpe_ratio</th>\n",
       "      <td>0.522712</td>\n",
       "    </tr>\n",
       "  </tbody>\n",
       "</table>\n",
       "</div>"
      ],
      "text/plain": [
       "                   value\n",
       "return_ann      0.174679\n",
       "volatility_ann  0.334178\n",
       "sharpe_ratio    0.522712"
      ]
     },
     "execution_count": 102,
     "metadata": {},
     "output_type": "execute_result"
    }
   ],
   "source": [
    "import numpy as np\n",
    "risk_free_rate = 0\n",
    "statistics = pd.DataFrame(index=['return_ann', 'volatility_ann'])\n",
    "statistics.loc['return_ann','value'] = ((p.iloc[-1] / p.iloc[0]) ** (1 / ((p.index[-1] - p.index[0]).days / 365)) -1) * 100\n",
    "statistics.loc['volatility_ann', 'value'] = p.pct_change().std() *  np.sqrt(252) * 100\n",
    "statistics.loc['sharpe_ratio', 'value'] = (statistics.value.return_ann - risk_free_rate) / statistics.value.volatility_ann\n",
    "\n",
    "statistics\n"
   ]
  },
  {
   "cell_type": "code",
   "execution_count": 34,
   "metadata": {},
   "outputs": [
    {
     "data": {
      "text/plain": [
       "Date\n",
       "2022-01-18   NaN\n",
       "Name: SMA_20, dtype: float64"
      ]
     },
     "execution_count": 34,
     "metadata": {},
     "output_type": "execute_result"
    }
   ],
   "source": [
    "e.strategy.indicators['AAPL']['sma'].loc[:e.strategy.idx]"
   ]
  },
  {
   "cell_type": "code",
   "execution_count": 124,
   "metadata": {},
   "outputs": [
    {
     "data": {
      "text/plain": [
       "-0.007440232597689667"
      ]
     },
     "execution_count": 124,
     "metadata": {},
     "output_type": "execute_result"
    }
   ],
   "source": [
    "start_date = p.index[0]\n",
    "end_date = p.index[-1]\n",
    "duration = (end_date - start_date).days\n",
    "return_total = (p.iloc[-1] / p.iloc[0]) - 1\n",
    "exposure = (1 - output['portfolio'].cash / output['portfolio'].total).mean() * 100\n",
    "\n",
    "\n"
   ]
  },
  {
   "cell_type": "code",
   "execution_count": 61,
   "metadata": {},
   "outputs": [
    {
     "name": "stdout",
     "output_type": "stream",
     "text": [
      "(1,)\n",
      "<class 'dict'>\n"
     ]
    }
   ],
   "source": [
    "def arg_printer(*args, **kwargs):\n",
    "   print(args)\n",
    "   print(type(kwargs))\n",
    "arg_printer(1, param1=5, param2=6)"
   ]
  },
  {
   "cell_type": "code",
   "execution_count": null,
   "metadata": {},
   "outputs": [],
   "source": []
  }
 ],
 "metadata": {
  "kernelspec": {
   "display_name": "base",
   "language": "python",
   "name": "python3"
  },
  "language_info": {
   "codemirror_mode": {
    "name": "ipython",
    "version": 3
   },
   "file_extension": ".py",
   "mimetype": "text/x-python",
   "name": "python",
   "nbconvert_exporter": "python",
   "pygments_lexer": "ipython3",
   "version": "3.9.12"
  },
  "orig_nbformat": 4,
  "vscode": {
   "interpreter": {
    "hash": "957668f77d739aed3606dc0cb3e6b9836150d21e7c3a979985571ea2faa3bd84"
   }
  }
 },
 "nbformat": 4,
 "nbformat_minor": 2
}
