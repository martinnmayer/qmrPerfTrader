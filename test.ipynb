{
 "cells": [
  {
   "cell_type": "code",
   "execution_count": 6,
   "metadata": {},
   "outputs": [],
   "source": [
    "from backtester import Engine, Strategy\n",
    "import pandas_ta as ta"
   ]
  },
  {
   "cell_type": "code",
   "execution_count": 9,
   "metadata": {},
   "outputs": [],
   "source": [
    "\n",
    "class SMAStrategy(Strategy):\n",
    "    def next(self):\n",
    "        for ticker in self.tickers:\n",
    "            if self.position_size(ticker) == 0:\n",
    "                if self.indicator(ticker, 'sma12')[-1] > self.indicator(ticker,'sma24')[-1]:                \n",
    "                    self.buy(ticker, 100)\n",
    "            else:\n",
    "                if self.indicator(ticker, 'sma12')[-1] < self.indicator(ticker, 'sma24')[-1]:\n",
    "                    self.sell(ticker, 100)\n",
    "\n",
    "\n",
    "def sma(ohlc,*params):\n",
    "    lookback = params[0]\n",
    "    return ta.sma(ohlc.Close, length=lookback)"
   ]
  },
  {
   "cell_type": "code",
   "execution_count": 10,
   "metadata": {},
   "outputs": [
    {
     "name": "stderr",
     "output_type": "stream",
     "text": [
      "100%|██████████| 252/252 [00:00<00:00, 4507.47it/s]\n"
     ]
    },
    {
     "data": {
      "text/plain": [
       "dict_keys(['portfolio', 'positions', 'trades', 'statistics'])"
      ]
     },
     "execution_count": 10,
     "metadata": {},
     "output_type": "execute_result"
    }
   ],
   "source": [
    "import yfinance as yf\n",
    "import pandas_ta as ta\n",
    "amzn = yf.Ticker('AMZN').history(period='1y')\n",
    "\n",
    "e = Engine(SMAStrategy)\n",
    "e.add_ohlc('AMZN', amzn)\n",
    "e.add_indicator('sma12', sma, 12)\n",
    "\n",
    "e.add_indicator('sma24', sma, 24)\n",
    "out = e.run()\n",
    "out.keys()\n"
   ]
  },
  {
   "cell_type": "code",
   "execution_count": 11,
   "metadata": {},
   "outputs": [
    {
     "data": {
      "text/html": [
       "<div>\n",
       "<style scoped>\n",
       "    .dataframe tbody tr th:only-of-type {\n",
       "        vertical-align: middle;\n",
       "    }\n",
       "\n",
       "    .dataframe tbody tr th {\n",
       "        vertical-align: top;\n",
       "    }\n",
       "\n",
       "    .dataframe thead th {\n",
       "        text-align: right;\n",
       "    }\n",
       "</style>\n",
       "<table border=\"1\" class=\"dataframe\">\n",
       "  <thead>\n",
       "    <tr style=\"text-align: right;\">\n",
       "      <th></th>\n",
       "      <th>AMZN</th>\n",
       "      <th>cash</th>\n",
       "      <th>total</th>\n",
       "    </tr>\n",
       "  </thead>\n",
       "  <tbody>\n",
       "    <tr>\n",
       "      <th>2022-01-26</th>\n",
       "      <td>0.000000</td>\n",
       "      <td>10000.000000</td>\n",
       "      <td>10000.000000</td>\n",
       "    </tr>\n",
       "    <tr>\n",
       "      <th>2022-01-27</th>\n",
       "      <td>0.000000</td>\n",
       "      <td>10000.000000</td>\n",
       "      <td>10000.000000</td>\n",
       "    </tr>\n",
       "    <tr>\n",
       "      <th>2022-01-28</th>\n",
       "      <td>0.000000</td>\n",
       "      <td>10000.000000</td>\n",
       "      <td>10000.000000</td>\n",
       "    </tr>\n",
       "    <tr>\n",
       "      <th>2022-01-31</th>\n",
       "      <td>0.000000</td>\n",
       "      <td>10000.000000</td>\n",
       "      <td>10000.000000</td>\n",
       "    </tr>\n",
       "    <tr>\n",
       "      <th>2022-02-01</th>\n",
       "      <td>0.000000</td>\n",
       "      <td>10000.000000</td>\n",
       "      <td>10000.000000</td>\n",
       "    </tr>\n",
       "    <tr>\n",
       "      <th>...</th>\n",
       "      <td>...</td>\n",
       "      <td>...</td>\n",
       "      <td>...</td>\n",
       "    </tr>\n",
       "    <tr>\n",
       "      <th>2023-01-20</th>\n",
       "      <td>9725.000000</td>\n",
       "      <td>131.999969</td>\n",
       "      <td>9856.999969</td>\n",
       "    </tr>\n",
       "    <tr>\n",
       "      <th>2023-01-23</th>\n",
       "      <td>9751.999664</td>\n",
       "      <td>131.999969</td>\n",
       "      <td>9883.999634</td>\n",
       "    </tr>\n",
       "    <tr>\n",
       "      <th>2023-01-24</th>\n",
       "      <td>9631.999969</td>\n",
       "      <td>131.999969</td>\n",
       "      <td>9763.999939</td>\n",
       "    </tr>\n",
       "    <tr>\n",
       "      <th>2023-01-25</th>\n",
       "      <td>9718.000031</td>\n",
       "      <td>131.999969</td>\n",
       "      <td>9850.000000</td>\n",
       "    </tr>\n",
       "    <tr>\n",
       "      <th>2023-01-26</th>\n",
       "      <td>9869.619751</td>\n",
       "      <td>131.999969</td>\n",
       "      <td>10001.619720</td>\n",
       "    </tr>\n",
       "  </tbody>\n",
       "</table>\n",
       "<p>252 rows × 3 columns</p>\n",
       "</div>"
      ],
      "text/plain": [
       "                   AMZN          cash         total\n",
       "2022-01-26     0.000000  10000.000000  10000.000000\n",
       "2022-01-27     0.000000  10000.000000  10000.000000\n",
       "2022-01-28     0.000000  10000.000000  10000.000000\n",
       "2022-01-31     0.000000  10000.000000  10000.000000\n",
       "2022-02-01     0.000000  10000.000000  10000.000000\n",
       "...                 ...           ...           ...\n",
       "2023-01-20  9725.000000    131.999969   9856.999969\n",
       "2023-01-23  9751.999664    131.999969   9883.999634\n",
       "2023-01-24  9631.999969    131.999969   9763.999939\n",
       "2023-01-25  9718.000031    131.999969   9850.000000\n",
       "2023-01-26  9869.619751    131.999969  10001.619720\n",
       "\n",
       "[252 rows x 3 columns]"
      ]
     },
     "execution_count": 11,
     "metadata": {},
     "output_type": "execute_result"
    }
   ],
   "source": [
    "out['portfolio']"
   ]
  },
  {
   "cell_type": "code",
   "execution_count": 14,
   "metadata": {},
   "outputs": [
    {
     "data": {
      "text/html": [
       "<div>\n",
       "<style scoped>\n",
       "    .dataframe tbody tr th:only-of-type {\n",
       "        vertical-align: middle;\n",
       "    }\n",
       "\n",
       "    .dataframe tbody tr th {\n",
       "        vertical-align: top;\n",
       "    }\n",
       "\n",
       "    .dataframe thead th {\n",
       "        text-align: right;\n",
       "    }\n",
       "</style>\n",
       "<table border=\"1\" class=\"dataframe\">\n",
       "  <thead>\n",
       "    <tr style=\"text-align: right;\">\n",
       "      <th></th>\n",
       "      <th>value</th>\n",
       "    </tr>\n",
       "  </thead>\n",
       "  <tbody>\n",
       "    <tr>\n",
       "      <th>return_ann</th>\n",
       "      <td>0.016197</td>\n",
       "    </tr>\n",
       "    <tr>\n",
       "      <th>volatility_ann</th>\n",
       "      <td>5.451470</td>\n",
       "    </tr>\n",
       "    <tr>\n",
       "      <th>sharpe_ratio</th>\n",
       "      <td>0.002971</td>\n",
       "    </tr>\n",
       "  </tbody>\n",
       "</table>\n",
       "</div>"
      ],
      "text/plain": [
       "                   value\n",
       "return_ann      0.016197\n",
       "volatility_ann  5.451470\n",
       "sharpe_ratio    0.002971"
      ]
     },
     "execution_count": 14,
     "metadata": {},
     "output_type": "execute_result"
    }
   ],
   "source": [
    "out['statistics']"
   ]
  },
  {
   "cell_type": "code",
   "execution_count": 34,
   "metadata": {},
   "outputs": [],
   "source": [
    "from backtesting import Backtest, Strategy\n",
    "\n",
    "from backtesting.test import SMA\n",
    "\n",
    "\n",
    "class SmaCross(Strategy):\n",
    "    n1 = 12 \n",
    "    n2 = 24\n",
    "\n",
    "    def init(self):\n",
    "        close = self.data.Close\n",
    "        self.sma1 = self.I(SMA, close, self.n1)\n",
    "        self.sma2 = self.I(SMA, close, self.n2)\n",
    "\n",
    "    def next(self):\n",
    "        if not self.position:\n",
    "            if self.sma1[-1] > self.sma2[-1]:\n",
    "                self.buy(size=100)\n",
    "        elif self.sma1[-1] < self.sma2[-1]:\n",
    "            self.position.close()\n",
    "\n",
    "\n",
    "bt = Backtest(amzn, SmaCross,\n",
    "              cash=10000, commission=0,\n",
    "              exclusive_orders=True)\n",
    "\n",
    "output = bt.run()\n",
    "\n"
   ]
  },
  {
   "cell_type": "code",
   "execution_count": 37,
   "metadata": {},
   "outputs": [
    {
     "data": {
      "text/plain": [
       "Start                     2022-01-20 00:00:00\n",
       "End                       2023-01-19 00:00:00\n",
       "Duration                    364 days 00:00:00\n",
       "Exposure Time [%]                    1.195219\n",
       "Equity Final [$]                  9605.999756\n",
       "Equity Peak [$]                       10000.0\n",
       "Return [%]                          -3.940002\n",
       "Buy & Hold Return [%]              -38.233304\n",
       "Return (Ann.) [%]                   -3.955385\n",
       "Volatility (Ann.) [%]                2.694977\n",
       "Sharpe Ratio                              0.0\n",
       "Sortino Ratio                             0.0\n",
       "Calmar Ratio                              0.0\n",
       "Max. Drawdown [%]                   -3.940002\n",
       "Avg. Drawdown [%]                   -3.940002\n",
       "Max. Drawdown Duration        6 days 00:00:00\n",
       "Avg. Drawdown Duration        6 days 00:00:00\n",
       "# Trades                                    1\n",
       "Win Rate [%]                              0.0\n",
       "Best Trade [%]                      -3.992706\n",
       "Worst Trade [%]                     -3.992706\n",
       "Avg. Trade [%]                      -3.992706\n",
       "Max. Trade Duration           2 days 00:00:00\n",
       "Avg. Trade Duration           2 days 00:00:00\n",
       "Profit Factor                             0.0\n",
       "Expectancy [%]                      -3.992706\n",
       "SQN                                       NaN\n",
       "_strategy                            SmaCross\n",
       "_equity_curve                             ...\n",
       "_trades                      Size  EntryBa...\n",
       "dtype: object"
      ]
     },
     "execution_count": 37,
     "metadata": {},
     "output_type": "execute_result"
    }
   ],
   "source": [
    "output"
   ]
  },
  {
   "cell_type": "code",
   "execution_count": null,
   "metadata": {},
   "outputs": [],
   "source": []
  }
 ],
 "metadata": {
  "kernelspec": {
   "display_name": "base",
   "language": "python",
   "name": "python3"
  },
  "language_info": {
   "codemirror_mode": {
    "name": "ipython",
    "version": 3
   },
   "file_extension": ".py",
   "mimetype": "text/x-python",
   "name": "python",
   "nbconvert_exporter": "python",
   "pygments_lexer": "ipython3",
   "version": "3.9.12"
  },
  "orig_nbformat": 4,
  "vscode": {
   "interpreter": {
    "hash": "957668f77d739aed3606dc0cb3e6b9836150d21e7c3a979985571ea2faa3bd84"
   }
  }
 },
 "nbformat": 4,
 "nbformat_minor": 2
}
